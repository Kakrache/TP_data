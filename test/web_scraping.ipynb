{
 "cells": [
  {
   "cell_type": "markdown",
   "metadata": {},
   "source": [
    "### Objectif : Extraire des données d'un site web.\n",
    "\"\"\"Exercice :\n",
    "#Utilisez BeautifulSoup pour récupérer des informations d'une page web (comme les #titres d'articles d'un blog).\n",
    "#Implémentez la gestion des erreurs pour les liens brisés ou les pages #inaccessibles.\n",
    "#Enregistrez les données extraites dans un fichier JSON ou CSV.*/"
   ]
  },
  {
   "cell_type": "code",
   "execution_count": 8,
   "metadata": {},
   "outputs": [
    {
     "name": "stdout",
     "output_type": "stream",
     "text": [
      "données enregistrer dans fichier blog_titles.json\n"
     ]
    }
   ],
   "source": [
    "import requests\n",
    "from bs4 import BeautifulSoup\n",
    "import json\n",
    "\n",
    "def recup_contenu(url):\n",
    "    try:\n",
    "        response = requests.get(url)\n",
    "        response.raise_for_status()\n",
    "        return response.text\n",
    "    except requests.exceptions.RequestException as e:\n",
    "        print(f\"erreur lors de la récupération de la page{url}: {e}\")\n",
    "        return None\n",
    "def extract_tittle(html):\n",
    "    soup = BeautifulSoup(html, 'html.parser')\n",
    "    titles = []\n",
    "    for title in soup.find_all('h2'):\n",
    "        titles.append(title.get_text(strip = True))\n",
    "    return titles\n",
    "\n",
    "def save_to_json(data, filename):\n",
    "    with open(filename, 'w', encoding='utf-8') as f:\n",
    "        json.dump(data, f, ensure_ascii= False, indent=4)\n",
    "    print(f\"données enregistrer dans fichier {filename}\")\n",
    "\n",
    "def scrape_blog_titles(url, output_file):\n",
    "    html = recup_contenu(url)\n",
    "    if html is None:\n",
    "        return\n",
    "\n",
    "    titles = extract_tittle(html)\n",
    "    if not titles:\n",
    "        print(\"Aucun titre trouvé.\")\n",
    "        return\n",
    "\n",
    "    data = {\"url\": url, \"titles\": titles}\n",
    "    save_to_json(data, output_file)\n",
    "url = \"https://github.com/\"  # Remplacez par l'URL du site à scraper\n",
    "output_filename = \"blog_titles.json\"\n",
    "scrape_blog_titles(url, output_filename)"
   ]
  }
 ],
 "metadata": {
  "kernelspec": {
   "display_name": "base",
   "language": "python",
   "name": "python3"
  },
  "language_info": {
   "codemirror_mode": {
    "name": "ipython",
    "version": 3
   },
   "file_extension": ".py",
   "mimetype": "text/x-python",
   "name": "python",
   "nbconvert_exporter": "python",
   "pygments_lexer": "ipython3",
   "version": "3.9.12"
  }
 },
 "nbformat": 4,
 "nbformat_minor": 2
}
