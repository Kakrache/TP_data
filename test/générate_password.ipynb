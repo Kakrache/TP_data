{
 "cells": [
  {
   "cell_type": "code",
   "execution_count": 1,
   "metadata": {},
   "outputs": [
    {
     "name": "stdout",
     "output_type": "stream",
     "text": [
      "K4+u\n"
     ]
    }
   ],
   "source": [
    "import random\n",
    "import string\n",
    "\n",
    "def generate_password(length):\n",
    "    if length < 4:\n",
    "        print(\"rrors, le mot de passe doit contenir au moins 4 caractères\")\n",
    "    # Définir les catégories de caractères\n",
    "    lower = string.ascii_lowercase\n",
    "    upper = string.ascii_uppercase\n",
    "    digits = string.digits\n",
    "    chars = string.punctuation\n",
    "\n",
    "    # Assurer qu'on a au moins un caractère de chaque catégorie\n",
    "    password = [\n",
    "        random.choice(lower),\n",
    "        random.choice(upper),\n",
    "        random.choice(digits),\n",
    "        random.choice(chars)\n",
    "    ]\n",
    "\n",
    "    # Compléter le mot de passe avec des caractères aléatoires\n",
    "    all_chars = lower + upper + digits + chars\n",
    "    password += random.choices(all_chars, k=length - 4)\n",
    "\n",
    "    # Mélanger les caractères pour éviter un ordre prévisible\n",
    "    random.shuffle(password)\n",
    "    return ''.join(password)\n",
    "\n",
    "print(generate_password(4))"
   ]
  }
 ],
 "metadata": {
  "kernelspec": {
   "display_name": "base",
   "language": "python",
   "name": "python3"
  },
  "language_info": {
   "codemirror_mode": {
    "name": "ipython",
    "version": 3
   },
   "file_extension": ".py",
   "mimetype": "text/x-python",
   "name": "python",
   "nbconvert_exporter": "python",
   "pygments_lexer": "ipython3",
   "version": "3.9.12"
  }
 },
 "nbformat": 4,
 "nbformat_minor": 2
}
