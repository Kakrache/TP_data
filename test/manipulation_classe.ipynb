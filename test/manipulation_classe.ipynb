{
 "cells": [
  {
   "cell_type": "markdown",
   "metadata": {},
   "source": []
  },
  {
   "cell_type": "code",
   "execution_count": null,
   "metadata": {},
   "outputs": [
    {
     "name": "stdout",
     "output_type": "stream",
     "text": [
      "nom :Karima Akrache \n",
      " email:alice.dupont@icloud.com \n",
      " mot_de_passe: Motdepasse123!\n",
      "****************************************\n",
      "nom :Dania Akrache \n",
      " email:dania@gmail.com \n",
      " mot_de_passe: monmotdepasse7\n",
      "****************************************\n",
      "Mot de passe changé avec succès.\n",
      "nom :Karima Akrache \n",
      " email:alice.dupont@icloud.com \n",
      " mot_de_passe: NewPass2024#\n"
     ]
    }
   ],
   "source": [
    "#crée une classe utilisateur\n",
    "\n",
    "import re\n",
    "class utilisateur:\n",
    "    def __init__(self, nom, email, mot_de_passe):\n",
    "        self.nom = nom\n",
    "        self.email = email\n",
    "        self.mot_de_passe = mot_de_passe\n",
    "\n",
    "    def afficher_info(self):\n",
    "        return f\"nom :{self.nom} \\n email:{self.email} \\n mot_de_passe: {self.mot_de_passe}\"\n",
    "\n",
    "    def changer_mot_de_passe(self, nouveau_mot_de_passe):\n",
    "        # Vérification de la validité du mot de passe\n",
    "        if len(nouveau_mot_de_passe) < 8:\n",
    "            print(\"Erreur : Le mot de passe doit contenir au moins 8 caractères.\")\n",
    "            return False\n",
    "        if not re.search(r'[A-Za-z]', nouveau_mot_de_passe):\n",
    "            print(\"Erreur : Le mot de passe doit contenir au moins une lettre.\")\n",
    "            return False\n",
    "        if not re.search(r'\\d', nouveau_mot_de_passe):\n",
    "            print(\"Erreur : Le mot de passe doit contenir au moins un chiffre.\")\n",
    "            return False\n",
    "        if not re.search(r'[!@#$%^&*(),.?\":{}|<>]', nouveau_mot_de_passe):\n",
    "            print(\"Erreur : Le mot de passe doit contenir au moins un caractère spécial.\")\n",
    "            return False\n",
    "        # Si toutes les règles sont respectées, on met à jour le mot de passe\n",
    "        self.mot_de_passe = nouveau_mot_de_passe\n",
    "        print(\"Mot de passe changé avec succès.\")\n",
    "        return True\n",
    "    \n",
    "#crée une liste d'objets utilisateur test\n",
    "utilisateurs = [utilisateur(\"Karima Akrache\", \"alice.dupont@icloud.com\", \"Motdepasse123!\"),\n",
    "                utilisateur(\"Dania Akrache\", \"dania@gmail.com\", \"monmotdepasse7\")]\n",
    "\n",
    "\n",
    "for utilisateur in utilisateurs:\n",
    "    print(utilisateur.afficher_info())\n",
    "    print(\"*\" * 40)\n",
    "#tester \n",
    "utilisateurs[0].changer_mot_de_passe(\"NewPass2024#\")\n",
    "print(utilisateurs[0].afficher_info())"
   ]
  }
 ],
 "metadata": {
  "kernelspec": {
   "display_name": "base",
   "language": "python",
   "name": "python3"
  },
  "language_info": {
   "codemirror_mode": {
    "name": "ipython",
    "version": 3
   },
   "file_extension": ".py",
   "mimetype": "text/x-python",
   "name": "python",
   "nbconvert_exporter": "python",
   "pygments_lexer": "ipython3",
   "version": "3.9.12"
  }
 },
 "nbformat": 4,
 "nbformat_minor": 2
}
