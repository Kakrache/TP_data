{
 "cells": [
  {
   "cell_type": "code",
   "execution_count": null,
   "metadata": {},
   "outputs": [],
   "source": []
  },
  {
   "cell_type": "code",
   "execution_count": null,
   "metadata": {},
   "outputs": [],
   "source": []
  },
  {
   "cell_type": "code",
   "execution_count": 1,
   "metadata": {},
   "outputs": [
    {
     "name": "stdout",
     "output_type": "stream",
     "text": [
      "Image convertie en niveaux de gris et sauvegardée : gray_image.jpg\n",
      "Image avec flou gaussien sauvegardée : blurred_image.jpg\n",
      "Contours détectés et sauvegardés : edges_image.jpg\n"
     ]
    }
   ],
   "source": [
    "import cv2\n",
    "def load_image(path):\n",
    "    image = cv2.imread(path)\n",
    "    if image is None:\n",
    "        raise FileNotFoundError(f\"l'image à l'emplacement{path} n'a pas était trouver\")\n",
    "    return image\n",
    "def save_image(image, path):\n",
    "\n",
    "    cv2.imwrite(path, image)\n",
    "\n",
    "def process_image(image_path):\n",
    "    originale_img = load_image(image_path)\n",
    "\n",
    "    gray_img = cv2.cvtColor(originale_img, cv2.COLOR_BGR2GRAY)\n",
    "    save_image(gray_img, \"gray_image.jpg\")\n",
    "    print(\"Image convertie en niveaux de gris et sauvegardée : gray_image.jpg\")\n",
    "\n",
    "    # Appliquer un flou gaussien\n",
    "    blurred_image = cv2.GaussianBlur(gray_img, (5, 5), 0)\n",
    "    save_image(blurred_image, \"blurred_image.jpg\")\n",
    "    print(\"Image avec flou gaussien sauvegardée : blurred_image.jpg\")\n",
    "\n",
    "    # Détection des contours avec Canny\n",
    "    edges_image = cv2.Canny(blurred_image, 100, 200)\n",
    "    save_image(edges_image, \"edges_image.jpg\")\n",
    "    print(\"Contours détectés et sauvegardés : edges_image.jpg\")\n",
    "\n",
    "    # Afficher les résultats\n",
    "    cv2.imshow(\"Original Image\", originale_img)\n",
    "    cv2.imshow(\"Gray Image\", gray_img)\n",
    "    cv2.imshow(\"Blurred Image\", blurred_image)\n",
    "    cv2.imshow(\"Edges Image\", edges_image)\n",
    "\n",
    "\n",
    "# Spécifiez le chemin de l'image ici\n",
    "image_path = \"img.jpg\"\n",
    "process_image(image_path)\n",
    "\n",
    "\n",
    "\n",
    "    \n",
    "\n",
    "\n",
    "\n",
    "\n",
    "\n"
   ]
  }
 ],
 "metadata": {
  "kernelspec": {
   "display_name": "base",
   "language": "python",
   "name": "python3"
  },
  "language_info": {
   "codemirror_mode": {
    "name": "ipython",
    "version": 3
   },
   "file_extension": ".py",
   "mimetype": "text/x-python",
   "name": "python",
   "nbconvert_exporter": "python",
   "pygments_lexer": "ipython3",
   "version": "3.9.12"
  }
 },
 "nbformat": 4,
 "nbformat_minor": 2
}
