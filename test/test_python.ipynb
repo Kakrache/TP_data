{
 "cells": [
  {
   "cell_type": "code",
   "execution_count": 8,
   "metadata": {},
   "outputs": [
    {
     "name": "stdout",
     "output_type": "stream",
     "text": [
      "4I\\n\n"
     ]
    }
   ],
   "source": [
    "import random\n",
    "import string\n",
    "\n",
    "def generate_password(length):\n",
    "    if length < 4:\n",
    "        print(\"rrors, le mot de passe doit contenir au moins 4 caractères\")\n",
    "    # Définir les catégories de caractères\n",
    "    lower = string.ascii_lowercase\n",
    "    upper = string.ascii_uppercase\n",
    "    digits = string.digits\n",
    "    chars = string.punctuation\n",
    "\n",
    "    # Assurer qu'on a au moins un caractère de chaque catégorie\n",
    "    password = [\n",
    "        random.choice(lower),\n",
    "        random.choice(upper),\n",
    "        random.choice(digits),\n",
    "        random.choice(chars)\n",
    "    ]\n",
    "\n",
    "    # Compléter le mot de passe avec des caractères aléatoires\n",
    "    all_chars = lower + upper + digits + chars\n",
    "    password += random.choices(all_chars, k=length - 4)\n",
    "\n",
    "    # Mélanger les caractères pour éviter un ordre prévisible\n",
    "    random.shuffle(password)\n",
    "    return ''.join(password)\n",
    "\n",
    "print(generate_password(4))\n",
    "\n",
    "\n",
    "       \n"
   ]
  },
  {
   "cell_type": "code",
   "execution_count": null,
   "metadata": {},
   "outputs": [
    {
     "name": "stdout",
     "output_type": "stream",
     "text": [
      "nom :Karima Akrache \n",
      " email:alice.dupont@icloud.com \n",
      " mot_de_passe: Motdepasse123!\n",
      "****************************************\n",
      "nom :Dania Akrache \n",
      " email:dania@gmail.com \n",
      " mot_de_passe: monmotdepasse7\n",
      "****************************************\n",
      "Mot de passe changé avec succès.\n",
      "nom :Karima Akrache \n",
      " email:alice.dupont@icloud.com \n",
      " mot_de_passe: NewPass2024#\n"
     ]
    }
   ],
   "source": [
    "#crée une classe utilisateur\n",
    "import re\n",
    "class utilisateur:\n",
    "    def __init__(self, nom, email, mot_de_passe):\n",
    "        self.nom = nom\n",
    "        self.email = email\n",
    "        self.mot_de_passe = mot_de_passe\n",
    "\n",
    "    def afficher_info(self):\n",
    "        return f\"nom :{self.nom} \\n email:{self.email} \\n mot_de_passe: {self.mot_de_passe}\"\n",
    "\n",
    "    def changer_mot_de_passe(self, nouveau_mot_de_passe):\n",
    "        # Vérification de la validité du mot de passe\n",
    "        if len(nouveau_mot_de_passe) < 8:\n",
    "            print(\"Erreur : Le mot de passe doit contenir au moins 8 caractères.\")\n",
    "            return False\n",
    "        if not re.search(r'[A-Za-z]', nouveau_mot_de_passe):\n",
    "            print(\"Erreur : Le mot de passe doit contenir au moins une lettre.\")\n",
    "            return False\n",
    "        if not re.search(r'\\d', nouveau_mot_de_passe):\n",
    "            print(\"Erreur : Le mot de passe doit contenir au moins un chiffre.\")\n",
    "            return False\n",
    "        if not re.search(r'[!@#$%^&*(),.?\":{}|<>]', nouveau_mot_de_passe):\n",
    "            print(\"Erreur : Le mot de passe doit contenir au moins un caractère spécial.\")\n",
    "            return False\n",
    "        # Si toutes les règles sont respectées, on met à jour le mot de passe\n",
    "        self.mot_de_passe = nouveau_mot_de_passe\n",
    "        print(\"Mot de passe changé avec succès.\")\n",
    "        return True\n",
    "    \n",
    "#crée une liste d'objets utilkisateurs pour le test\n",
    "utilisateurs = [utilisateur(\"Karima Akrache\", \"alice.dupont@icloud.com\", \"Motdepasse123!\"),\n",
    "                utilisateur(\"Dania Akrache\", \"dania@gmail.com\", \"monmotdepasse7\")]\n",
    "\n",
    "\n",
    "for utilisateur in utilisateurs:\n",
    "    print(utilisateur.afficher_info())\n",
    "    print(\"*\" * 40)\n",
    "#tester \n",
    "utilisateurs[0].changer_mot_de_passe(\"NewPass2024#\")\n",
    "print(utilisateurs[0].afficher_info())\n",
    "\n",
    "    "
   ]
  },
  {
   "cell_type": "code",
   "execution_count": null,
   "metadata": {},
   "outputs": [
    {
     "name": "stdout",
     "output_type": "stream",
     "text": [
      "Crible d'Ératosthène : 78498 nombres premiers trouvés en 0.1564 secondes.\n",
      "Approche brute : 78498 nombres premiers trouvés en 3.9527 secondes.\n"
     ]
    }
   ],
   "source": [
    "def crible_eratosthene(n):\n",
    "    if n < 2:\n",
    "        return []\n",
    "    \n",
    "    # Création d'une liste de booléens (True = premier)\n",
    "    premiers = [True] * (n + 1)\n",
    "    premiers[0], premiers[1] = False, False  # 0 et 1 ne sont pas premiers\n",
    "\n",
    "    # Marquer les multiples des nombres premiers\n",
    "    for i in range(2, int(n**0.5) + 1):\n",
    "        if premiers[i]:\n",
    "            for multiple in range(i * i, n + 1, i):\n",
    "                premiers[multiple] = False\n",
    "\n",
    "    # Retourner tous les indices marqués comme True\n",
    "    return [i for i, is_prime in enumerate(premiers) if is_prime]\n",
    "\n",
    "def brute_force(n):\n",
    "    if n < 2:\n",
    "        return []\n",
    "    \n",
    "    def est_premier(nombre):\n",
    "        if nombre < 2:\n",
    "            return False\n",
    "        for i in range(2, int(nombre**0.5) + 1):\n",
    "            if nombre % i == 0:\n",
    "                return False\n",
    "        return True\n",
    "    \n",
    "    # Générer tous les nombres premiers\n",
    "    return [i for i in range(2, n + 1) if est_premier(i)]\n",
    "\n",
    "import time\n",
    "\n",
    "# Teste\n",
    "n = 10**6  # 1 million\n",
    "\n",
    "# Mesurer le temps pour le crible d'Ératosthène\n",
    "start_time = time.time()\n",
    "result_crible = crible_eratosthene(n)\n",
    "crible_time = time.time() - start_time\n",
    "\n",
    "# Mesurer le temps pour l'approche brute\n",
    "start_time = time.time()\n",
    "result_brute = brute_force(n)\n",
    "brute_time = time.time() - start_time\n",
    "\n",
    "# Afficher les res\n",
    "print(f\"Crible d'Ératosthène : {len(result_crible)} nombres premiers trouvés en {crible_time:.4f} secondes.\")\n",
    "print(f\"Approche brute : {len(result_brute)} nombres premiers trouvés en {brute_time:.4f} secondes.\")\n",
    "\n",
    "\n"
   ]
  },
  {
   "cell_type": "code",
   "execution_count": null,
   "metadata": {},
   "outputs": [],
   "source": []
  }
 ],
 "metadata": {
  "kernelspec": {
   "display_name": "base",
   "language": "python",
   "name": "python3"
  },
  "language_info": {
   "codemirror_mode": {
    "name": "ipython",
    "version": 3
   },
   "file_extension": ".py",
   "mimetype": "text/x-python",
   "name": "python",
   "nbconvert_exporter": "python",
   "pygments_lexer": "ipython3",
   "version": "3.9.12"
  }
 },
 "nbformat": 4,
 "nbformat_minor": 2
}
