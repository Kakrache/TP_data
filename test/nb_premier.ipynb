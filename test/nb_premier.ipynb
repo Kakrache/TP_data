{
 "cells": [
  {
   "cell_type": "code",
   "execution_count": null,
   "metadata": {},
   "outputs": [
    {
     "name": "stdout",
     "output_type": "stream",
     "text": [
      "Crible d'Ératosthène : 78498 nombres premiers trouvés en 0.1564 secondes.\n",
      "Approche brute : 78498 nombres premiers trouvés en 3.9527 secondes.\n"
     ]
    }
   ],
   "source": [
    "def crible_eratosthene(n):\n",
    "    if n < 2:\n",
    "        return []\n",
    "    \n",
    "    # Création d'une liste de booléens (True = premier)\n",
    "    premiers = [True] * (n + 1)\n",
    "    premiers[0], premiers[1] = False, False  # 0 et 1 ne sont pas premiers\n",
    "\n",
    "    # Marquer les multiples des nombres premiers\n",
    "    for i in range(2, int(n**0.5) + 1):\n",
    "        if premiers[i]:\n",
    "            for multiple in range(i * i, n + 1, i):\n",
    "                premiers[multiple] = False\n",
    "\n",
    "    # Retourner tous les indices marqués comme True\n",
    "    return [i for i, is_prime in enumerate(premiers) if is_prime]\n",
    "\n",
    "def brute_force(n):\n",
    "    if n < 2:\n",
    "        return []\n",
    "    \n",
    "    def est_premier(nombre):\n",
    "        if nombre < 2:\n",
    "            return False\n",
    "        for i in range(2, int(nombre**0.5) + 1):\n",
    "            if nombre % i == 0:\n",
    "                return False\n",
    "        return True\n",
    "    \n",
    "    # Générer tous les nombres premiers\n",
    "    return [i for i in range(2, n + 1) if est_premier(i)]\n",
    "\n",
    "import time\n",
    "\n",
    "# Teste\n",
    "n = 10**6  # 1 million\n",
    "\n",
    "# Mesurer le temps pour le crible d'Ératosthène\n",
    "start_time = time.time()\n",
    "result_crible = crible_eratosthene(n)\n",
    "crible_time = time.time() - start_time\n",
    "\n",
    "# Mesurer le temps pour l'approche brt\n",
    "start_time = time.time()\n",
    "result_brute = brute_force(n)\n",
    "brute_time = time.time() - start_time\n",
    "\n",
    "# Afficher les res\n",
    "print(f\"Crible d'Ératosthène : {len(result_crible)} nombres premiers trouvés en {crible_time:.4f} secondes.\")\n",
    "print(f\"Approche brute : {len(result_brute)} nombres premiers trouvés en {brute_time:.4f} secondes.\")\n",
    "\n",
    "\n"
   ]
  },
  {
   "cell_type": "code",
   "execution_count": null,
   "metadata": {},
   "outputs": [],
   "source": []
  }
 ],
 "metadata": {
  "kernelspec": {
   "display_name": "base",
   "language": "python",
   "name": "python3"
  },
  "language_info": {
   "codemirror_mode": {
    "name": "ipython",
    "version": 3
   },
   "file_extension": ".py",
   "mimetype": "text/x-python",
   "name": "python",
   "nbconvert_exporter": "python",
   "pygments_lexer": "ipython3",
   "version": "3.9.12"
  }
 },
 "nbformat": 4,
 "nbformat_minor": 2
}
